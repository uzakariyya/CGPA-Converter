{
 "cells": [
  {
   "cell_type": "markdown",
   "metadata": {},
   "source": [
    "# CGPA Converter"
   ]
  },
  {
   "cell_type": "markdown",
   "metadata": {},
   "source": [
    "## Welcome to CGPA Covnverter"
   ]
  },
  {
   "cell_type": "code",
   "execution_count": 4,
   "metadata": {},
   "outputs": [],
   "source": [
    "def convert_cgpa(original_cgpa, original_scale, target_scale):\n",
    "      if original_cgpa > original_scale or original_cgpa < 0:\n",
    "            print(\"Invalid CGPA! It cannot exceed the original scale or be negative.\")\n",
    "\n",
    "\n",
    "      #Conversion Operation\n",
    "      converted_cgpa = (original_cgpa / original_scale) * target_scale\n",
    "      return round(converted_cgpa, 2)\n",
    "  "
   ]
  },
  {
   "cell_type": "markdown",
   "metadata": {},
   "source": [
    "### User Information"
   ]
  },
  {
   "cell_type": "code",
   "execution_count": 1,
   "metadata": {},
   "outputs": [
    {
     "name": "stdout",
     "output_type": "stream",
     "text": [
      "\n",
      "Biodata\n",
      "Fullname: Umar Zakariyya Muhammad\n",
      "Country: Nigeria\n",
      "University: ATBU\n",
      "Department: Geology\n",
      "Level: 500\n"
     ]
    }
   ],
   "source": [
    "print(\"\\nBiodata\")\n",
    "Fullname = input('Enter your Fullname:')\n",
    "country =  input('Enter your Country')\n",
    "University  = input('University:')\n",
    "Department  = input('Department:')\n",
    "Level  = input('Level:')\n",
    "\n",
    "print(f\"Fullname: {Fullname}\")\n",
    "print(f\"Country: {country}\")\n",
    "print(f\"University: {University}\")\n",
    "print(f\"Department: {Department}\")\n",
    "print(f\"Level: {Level}\")\n"
   ]
  },
  {
   "cell_type": "markdown",
   "metadata": {},
   "source": [
    "### Parameters Inputs"
   ]
  },
  {
   "cell_type": "code",
   "execution_count": null,
   "metadata": {},
   "outputs": [],
   "source": [
    "original_cgpa = float(input(\"Enter your CGPA: \"))\n",
    "original_scale = float(input(\"Enter the original scale (e.g., 4.0, 5.0, 10.0): \"))\n",
    "target_scale = float(input(\"Enter the target scale (e.g., 4.0, 5.0, 10.0): \"))"
   ]
  },
  {
   "cell_type": "code",
   "execution_count": 5,
   "metadata": {},
   "outputs": [],
   "source": [
    "result = convert_cgpa(original_cgpa, original_scale, target_scale)"
   ]
  },
  {
   "cell_type": "markdown",
   "metadata": {},
   "source": [
    "### Result Display"
   ]
  },
  {
   "cell_type": "code",
   "execution_count": 18,
   "metadata": {},
   "outputs": [
    {
     "name": "stdout",
     "output_type": "stream",
     "text": [
      "\n",
      "|CGPA Conversion Table\n",
      "|Original CGPA   | Original Scale  | Target Scale    | Converted CGPA \n",
      "|3.0             | 3.0             | 3.0             | 3.00           \n"
     ]
    }
   ],
   "source": [
    "\n",
    "print(\"\\n|CGPA Conversion Table\")\n",
    "print(f\"|{'Original CGPA':<15} | {'Original Scale':<15} | {'Target Scale':<15} | {'Converted CGPA':<15}\")\n",
    "print(f\"|{original_cgpa:<15} | {original_scale:<15} | {target_scale:<15} | {result:<15.2f}\")"
   ]
  },
  {
   "cell_type": "markdown",
   "metadata": {},
   "source": []
  }
 ],
 "metadata": {
  "kernelspec": {
   "display_name": "base",
   "language": "python",
   "name": "python3"
  },
  "language_info": {
   "codemirror_mode": {
    "name": "ipython",
    "version": 3
   },
   "file_extension": ".py",
   "mimetype": "text/x-python",
   "name": "python",
   "nbconvert_exporter": "python",
   "pygments_lexer": "ipython3",
   "version": "3.7.3"
  }
 },
 "nbformat": 4,
 "nbformat_minor": 2
}
